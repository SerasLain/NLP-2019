{
  "nbformat": 4,
  "nbformat_minor": 0,
  "metadata": {
    "colab": {
      "name": "Pirozhki_classification[Sidorova, Belyaeva, Salamatina].ipynb",
      "version": "0.3.2",
      "provenance": [],
      "collapsed_sections": [],
      "toc_visible": true,
      "include_colab_link": true
    },
    "kernelspec": {
      "name": "python3",
      "display_name": "Python 3"
    }
  },
  "cells": [
    {
      "cell_type": "markdown",
      "metadata": {
        "id": "view-in-github",
        "colab_type": "text"
      },
      "source": [
        "<a href=\"https://colab.research.google.com/github/SerasLain/NLP-2019/blob/master/Pirozhki_classification%5BSidorova%2C_Belyaeva%2C_Salamatina%5D.ipynb\" target=\"_parent\"><img src=\"https://colab.research.google.com/assets/colab-badge.svg\" alt=\"Open In Colab\"/></a>"
      ]
    },
    {
      "cell_type": "markdown",
      "metadata": {
        "id": "dwDAShJoMAgO",
        "colab_type": "text"
      },
      "source": [
        "### Сбор датасета из БД"
      ]
    },
    {
      "cell_type": "markdown",
      "metadata": {
        "id": "cmj022ZkewQc",
        "colab_type": "text"
      },
      "source": [
        "# Определение автора краткой поэзии\n",
        "### выполнили А. Сидорова, А. Беляева, А. Саламатина"
      ]
    },
    {
      "cell_type": "code",
      "metadata": {
        "id": "B8LtjBYTctU4",
        "colab_type": "code",
        "colab": {}
      },
      "source": [
        "# Соединение с БД\n",
        "import sqlite3\n",
        "\n",
        "conn = sqlite3.connect('peraw.db')\n",
        "c = conn.cursor()"
      ],
      "execution_count": 0,
      "outputs": []
    },
    {
      "cell_type": "code",
      "metadata": {
        "id": "Q-BfEO5oBwio",
        "colab_type": "code",
        "outputId": "0e187f38-1b5a-4fb3-9548-1178912d6c84",
        "colab": {
          "base_uri": "https://localhost:8080/",
          "height": 426
        }
      },
      "source": [
        "import pandas as pd\n",
        "\n",
        "Posts = pd.read_sql('SELECT * FROM Posts', conn)\n",
        "Authors = pd.read_sql('SELECT * FROM Authors', conn)"
      ],
      "execution_count": 0,
      "outputs": [
        {
          "output_type": "error",
          "ename": "DatabaseError",
          "evalue": "ignored",
          "traceback": [
            "\u001b[0;31m---------------------------------------------------------------------------\u001b[0m",
            "\u001b[0;31mOperationalError\u001b[0m                          Traceback (most recent call last)",
            "\u001b[0;32m/usr/local/lib/python3.6/dist-packages/pandas/io/sql.py\u001b[0m in \u001b[0;36mexecute\u001b[0;34m(self, *args, **kwargs)\u001b[0m\n\u001b[1;32m   1430\u001b[0m             \u001b[0;32melse\u001b[0m\u001b[0;34m:\u001b[0m\u001b[0;34m\u001b[0m\u001b[0;34m\u001b[0m\u001b[0m\n\u001b[0;32m-> 1431\u001b[0;31m                 \u001b[0mcur\u001b[0m\u001b[0;34m.\u001b[0m\u001b[0mexecute\u001b[0m\u001b[0;34m(\u001b[0m\u001b[0;34m*\u001b[0m\u001b[0margs\u001b[0m\u001b[0;34m)\u001b[0m\u001b[0;34m\u001b[0m\u001b[0;34m\u001b[0m\u001b[0m\n\u001b[0m\u001b[1;32m   1432\u001b[0m             \u001b[0;32mreturn\u001b[0m \u001b[0mcur\u001b[0m\u001b[0;34m\u001b[0m\u001b[0;34m\u001b[0m\u001b[0m\n",
            "\u001b[0;31mOperationalError\u001b[0m: no such table: Posts",
            "\nDuring handling of the above exception, another exception occurred:\n",
            "\u001b[0;31mDatabaseError\u001b[0m                             Traceback (most recent call last)",
            "\u001b[0;32m<ipython-input-3-226cd734ff96>\u001b[0m in \u001b[0;36m<module>\u001b[0;34m()\u001b[0m\n\u001b[1;32m      1\u001b[0m \u001b[0;32mimport\u001b[0m \u001b[0mpandas\u001b[0m \u001b[0;32mas\u001b[0m \u001b[0mpd\u001b[0m\u001b[0;34m\u001b[0m\u001b[0;34m\u001b[0m\u001b[0m\n\u001b[1;32m      2\u001b[0m \u001b[0;34m\u001b[0m\u001b[0m\n\u001b[0;32m----> 3\u001b[0;31m \u001b[0mPosts\u001b[0m \u001b[0;34m=\u001b[0m \u001b[0mpd\u001b[0m\u001b[0;34m.\u001b[0m\u001b[0mread_sql\u001b[0m\u001b[0;34m(\u001b[0m\u001b[0;34m'SELECT * FROM Posts'\u001b[0m\u001b[0;34m,\u001b[0m \u001b[0mconn\u001b[0m\u001b[0;34m)\u001b[0m\u001b[0;34m\u001b[0m\u001b[0;34m\u001b[0m\u001b[0m\n\u001b[0m\u001b[1;32m      4\u001b[0m \u001b[0mAuthors\u001b[0m \u001b[0;34m=\u001b[0m \u001b[0mpd\u001b[0m\u001b[0;34m.\u001b[0m\u001b[0mread_sql\u001b[0m\u001b[0;34m(\u001b[0m\u001b[0;34m'SELECT * FROM Authors'\u001b[0m\u001b[0;34m,\u001b[0m \u001b[0mconn\u001b[0m\u001b[0;34m)\u001b[0m\u001b[0;34m\u001b[0m\u001b[0;34m\u001b[0m\u001b[0m\n",
            "\u001b[0;32m/usr/local/lib/python3.6/dist-packages/pandas/io/sql.py\u001b[0m in \u001b[0;36mread_sql\u001b[0;34m(sql, con, index_col, coerce_float, params, parse_dates, columns, chunksize)\u001b[0m\n\u001b[1;32m    378\u001b[0m             \u001b[0msql\u001b[0m\u001b[0;34m,\u001b[0m \u001b[0mindex_col\u001b[0m\u001b[0;34m=\u001b[0m\u001b[0mindex_col\u001b[0m\u001b[0;34m,\u001b[0m \u001b[0mparams\u001b[0m\u001b[0;34m=\u001b[0m\u001b[0mparams\u001b[0m\u001b[0;34m,\u001b[0m\u001b[0;34m\u001b[0m\u001b[0;34m\u001b[0m\u001b[0m\n\u001b[1;32m    379\u001b[0m             \u001b[0mcoerce_float\u001b[0m\u001b[0;34m=\u001b[0m\u001b[0mcoerce_float\u001b[0m\u001b[0;34m,\u001b[0m \u001b[0mparse_dates\u001b[0m\u001b[0;34m=\u001b[0m\u001b[0mparse_dates\u001b[0m\u001b[0;34m,\u001b[0m\u001b[0;34m\u001b[0m\u001b[0;34m\u001b[0m\u001b[0m\n\u001b[0;32m--> 380\u001b[0;31m             chunksize=chunksize)\n\u001b[0m\u001b[1;32m    381\u001b[0m \u001b[0;34m\u001b[0m\u001b[0m\n\u001b[1;32m    382\u001b[0m     \u001b[0;32mtry\u001b[0m\u001b[0;34m:\u001b[0m\u001b[0;34m\u001b[0m\u001b[0;34m\u001b[0m\u001b[0m\n",
            "\u001b[0;32m/usr/local/lib/python3.6/dist-packages/pandas/io/sql.py\u001b[0m in \u001b[0;36mread_query\u001b[0;34m(self, sql, index_col, coerce_float, params, parse_dates, chunksize)\u001b[0m\n\u001b[1;32m   1466\u001b[0m \u001b[0;34m\u001b[0m\u001b[0m\n\u001b[1;32m   1467\u001b[0m         \u001b[0margs\u001b[0m \u001b[0;34m=\u001b[0m \u001b[0m_convert_params\u001b[0m\u001b[0;34m(\u001b[0m\u001b[0msql\u001b[0m\u001b[0;34m,\u001b[0m \u001b[0mparams\u001b[0m\u001b[0;34m)\u001b[0m\u001b[0;34m\u001b[0m\u001b[0;34m\u001b[0m\u001b[0m\n\u001b[0;32m-> 1468\u001b[0;31m         \u001b[0mcursor\u001b[0m \u001b[0;34m=\u001b[0m \u001b[0mself\u001b[0m\u001b[0;34m.\u001b[0m\u001b[0mexecute\u001b[0m\u001b[0;34m(\u001b[0m\u001b[0;34m*\u001b[0m\u001b[0margs\u001b[0m\u001b[0;34m)\u001b[0m\u001b[0;34m\u001b[0m\u001b[0;34m\u001b[0m\u001b[0m\n\u001b[0m\u001b[1;32m   1469\u001b[0m         \u001b[0mcolumns\u001b[0m \u001b[0;34m=\u001b[0m \u001b[0;34m[\u001b[0m\u001b[0mcol_desc\u001b[0m\u001b[0;34m[\u001b[0m\u001b[0;36m0\u001b[0m\u001b[0;34m]\u001b[0m \u001b[0;32mfor\u001b[0m \u001b[0mcol_desc\u001b[0m \u001b[0;32min\u001b[0m \u001b[0mcursor\u001b[0m\u001b[0;34m.\u001b[0m\u001b[0mdescription\u001b[0m\u001b[0;34m]\u001b[0m\u001b[0;34m\u001b[0m\u001b[0;34m\u001b[0m\u001b[0m\n\u001b[1;32m   1470\u001b[0m \u001b[0;34m\u001b[0m\u001b[0m\n",
            "\u001b[0;32m/usr/local/lib/python3.6/dist-packages/pandas/io/sql.py\u001b[0m in \u001b[0;36mexecute\u001b[0;34m(self, *args, **kwargs)\u001b[0m\n\u001b[1;32m   1443\u001b[0m                 \"Execution failed on sql '{sql}': {exc}\".format(\n\u001b[1;32m   1444\u001b[0m                     sql=args[0], exc=exc))\n\u001b[0;32m-> 1445\u001b[0;31m             \u001b[0mraise_with_traceback\u001b[0m\u001b[0;34m(\u001b[0m\u001b[0mex\u001b[0m\u001b[0;34m)\u001b[0m\u001b[0;34m\u001b[0m\u001b[0;34m\u001b[0m\u001b[0m\n\u001b[0m\u001b[1;32m   1446\u001b[0m \u001b[0;34m\u001b[0m\u001b[0m\n\u001b[1;32m   1447\u001b[0m     \u001b[0;34m@\u001b[0m\u001b[0mstaticmethod\u001b[0m\u001b[0;34m\u001b[0m\u001b[0;34m\u001b[0m\u001b[0m\n",
            "\u001b[0;32m/usr/local/lib/python3.6/dist-packages/pandas/compat/__init__.py\u001b[0m in \u001b[0;36mraise_with_traceback\u001b[0;34m(exc, traceback)\u001b[0m\n\u001b[1;32m    418\u001b[0m         \u001b[0;32mif\u001b[0m \u001b[0mtraceback\u001b[0m \u001b[0;34m==\u001b[0m \u001b[0mEllipsis\u001b[0m\u001b[0;34m:\u001b[0m\u001b[0;34m\u001b[0m\u001b[0;34m\u001b[0m\u001b[0m\n\u001b[1;32m    419\u001b[0m             \u001b[0m_\u001b[0m\u001b[0;34m,\u001b[0m \u001b[0m_\u001b[0m\u001b[0;34m,\u001b[0m \u001b[0mtraceback\u001b[0m \u001b[0;34m=\u001b[0m \u001b[0msys\u001b[0m\u001b[0;34m.\u001b[0m\u001b[0mexc_info\u001b[0m\u001b[0;34m(\u001b[0m\u001b[0;34m)\u001b[0m\u001b[0;34m\u001b[0m\u001b[0;34m\u001b[0m\u001b[0m\n\u001b[0;32m--> 420\u001b[0;31m         \u001b[0;32mraise\u001b[0m \u001b[0mexc\u001b[0m\u001b[0;34m.\u001b[0m\u001b[0mwith_traceback\u001b[0m\u001b[0;34m(\u001b[0m\u001b[0mtraceback\u001b[0m\u001b[0;34m)\u001b[0m\u001b[0;34m\u001b[0m\u001b[0;34m\u001b[0m\u001b[0m\n\u001b[0m\u001b[1;32m    421\u001b[0m \u001b[0;32melse\u001b[0m\u001b[0;34m:\u001b[0m\u001b[0;34m\u001b[0m\u001b[0;34m\u001b[0m\u001b[0m\n\u001b[1;32m    422\u001b[0m     \u001b[0;31m# this version of raise is a syntax error in Python 3\u001b[0m\u001b[0;34m\u001b[0m\u001b[0;34m\u001b[0m\u001b[0;34m\u001b[0m\u001b[0m\n",
            "\u001b[0;32m/usr/local/lib/python3.6/dist-packages/pandas/io/sql.py\u001b[0m in \u001b[0;36mexecute\u001b[0;34m(self, *args, **kwargs)\u001b[0m\n\u001b[1;32m   1429\u001b[0m                 \u001b[0mcur\u001b[0m\u001b[0;34m.\u001b[0m\u001b[0mexecute\u001b[0m\u001b[0;34m(\u001b[0m\u001b[0;34m*\u001b[0m\u001b[0margs\u001b[0m\u001b[0;34m,\u001b[0m \u001b[0;34m**\u001b[0m\u001b[0mkwargs\u001b[0m\u001b[0;34m)\u001b[0m\u001b[0;34m\u001b[0m\u001b[0;34m\u001b[0m\u001b[0m\n\u001b[1;32m   1430\u001b[0m             \u001b[0;32melse\u001b[0m\u001b[0;34m:\u001b[0m\u001b[0;34m\u001b[0m\u001b[0;34m\u001b[0m\u001b[0m\n\u001b[0;32m-> 1431\u001b[0;31m                 \u001b[0mcur\u001b[0m\u001b[0;34m.\u001b[0m\u001b[0mexecute\u001b[0m\u001b[0;34m(\u001b[0m\u001b[0;34m*\u001b[0m\u001b[0margs\u001b[0m\u001b[0;34m)\u001b[0m\u001b[0;34m\u001b[0m\u001b[0;34m\u001b[0m\u001b[0m\n\u001b[0m\u001b[1;32m   1432\u001b[0m             \u001b[0;32mreturn\u001b[0m \u001b[0mcur\u001b[0m\u001b[0;34m\u001b[0m\u001b[0;34m\u001b[0m\u001b[0m\n\u001b[1;32m   1433\u001b[0m         \u001b[0;32mexcept\u001b[0m \u001b[0mException\u001b[0m \u001b[0;32mas\u001b[0m \u001b[0mexc\u001b[0m\u001b[0;34m:\u001b[0m\u001b[0;34m\u001b[0m\u001b[0;34m\u001b[0m\u001b[0m\n",
            "\u001b[0;31mDatabaseError\u001b[0m: Execution failed on sql 'SELECT * FROM Posts': no such table: Posts"
          ]
        }
      ]
    },
    {
      "cell_type": "code",
      "metadata": {
        "id": "iF_jcekhCrUx",
        "colab_type": "code",
        "outputId": "9fa8a502-2bac-4fb6-d9de-c332bbaf2f55",
        "colab": {
          "base_uri": "https://localhost:8080/",
          "height": 34
        }
      },
      "source": [
        "print(Authors.shape, Posts.shape)"
      ],
      "execution_count": 0,
      "outputs": [
        {
          "output_type": "stream",
          "text": [
            "(1541, 3) (17108, 6)\n"
          ],
          "name": "stdout"
        }
      ]
    },
    {
      "cell_type": "code",
      "metadata": {
        "id": "YatdhZQDDvNQ",
        "colab_type": "code",
        "outputId": "b55bd16e-c41b-4a7d-a6c2-1a495655bcdc",
        "colab": {
          "base_uri": "https://localhost:8080/",
          "height": 204
        }
      },
      "source": [
        "Posts.head()"
      ],
      "execution_count": 0,
      "outputs": [
        {
          "output_type": "execute_result",
          "data": {
            "text/html": [
              "<div>\n",
              "<style scoped>\n",
              "    .dataframe tbody tr th:only-of-type {\n",
              "        vertical-align: middle;\n",
              "    }\n",
              "\n",
              "    .dataframe tbody tr th {\n",
              "        vertical-align: top;\n",
              "    }\n",
              "\n",
              "    .dataframe thead th {\n",
              "        text-align: right;\n",
              "    }\n",
              "</style>\n",
              "<table border=\"1\" class=\"dataframe\">\n",
              "  <thead>\n",
              "    <tr style=\"text-align: right;\">\n",
              "      <th></th>\n",
              "      <th>Post_id</th>\n",
              "      <th>Author_id</th>\n",
              "      <th>date</th>\n",
              "      <th>text</th>\n",
              "      <th>age</th>\n",
              "      <th>city</th>\n",
              "    </tr>\n",
              "  </thead>\n",
              "  <tbody>\n",
              "    <tr>\n",
              "      <th>0</th>\n",
              "      <td>234497</td>\n",
              "      <td>Unknown</td>\n",
              "      <td>05</td>\n",
              "      <td>Лучшие [club95488043|депрессяшки] за апрель201...</td>\n",
              "      <td>40</td>\n",
              "      <td>Unknown</td>\n",
              "    </tr>\n",
              "    <tr>\n",
              "      <th>1</th>\n",
              "      <td>244615</td>\n",
              "      <td>Дей</td>\n",
              "      <td>06</td>\n",
              "      <td>заходишь в чат к хорошим людям\\nсидят по добро...</td>\n",
              "      <td>40</td>\n",
              "      <td>Saint Petersburg</td>\n",
              "    </tr>\n",
              "    <tr>\n",
              "      <th>2</th>\n",
              "      <td>244396</td>\n",
              "      <td>Сыр</td>\n",
              "      <td>06</td>\n",
              "      <td>у нас в сизо неплохо кормят\\nа иногда по выход...</td>\n",
              "      <td>40</td>\n",
              "      <td>Minsk</td>\n",
              "    </tr>\n",
              "    <tr>\n",
              "      <th>3</th>\n",
              "      <td>244348</td>\n",
              "      <td>Nomad</td>\n",
              "      <td>06</td>\n",
              "      <td>оксана под олегом в сексе\\nтак извивалась что ...</td>\n",
              "      <td>42</td>\n",
              "      <td>Vologda</td>\n",
              "    </tr>\n",
              "    <tr>\n",
              "      <th>4</th>\n",
              "      <td>244316</td>\n",
              "      <td>pofiger</td>\n",
              "      <td>06</td>\n",
              "      <td>олегу денег не хватает\\nни на непал ни на тибе...</td>\n",
              "      <td>51</td>\n",
              "      <td>Ramat Gan</td>\n",
              "    </tr>\n",
              "  </tbody>\n",
              "</table>\n",
              "</div>"
            ],
            "text/plain": [
              "   Post_id Author_id  ... age              city\n",
              "0   234497   Unknown  ...  40           Unknown\n",
              "1   244615       Дей  ...  40  Saint Petersburg\n",
              "2   244396       Сыр  ...  40             Minsk\n",
              "3   244348     Nomad  ...  42           Vologda\n",
              "4   244316   pofiger  ...  51         Ramat Gan\n",
              "\n",
              "[5 rows x 6 columns]"
            ]
          },
          "metadata": {
            "tags": []
          },
          "execution_count": 102
        }
      ]
    },
    {
      "cell_type": "code",
      "metadata": {
        "id": "94wqNJPQE4db",
        "colab_type": "code",
        "outputId": "a6eb7da2-7f85-4801-d8c3-2e6ca48fbdbd",
        "colab": {
          "base_uri": "https://localhost:8080/",
          "height": 204
        }
      },
      "source": [
        "Authors.head()"
      ],
      "execution_count": 0,
      "outputs": [
        {
          "output_type": "execute_result",
          "data": {
            "text/html": [
              "<div>\n",
              "<style scoped>\n",
              "    .dataframe tbody tr th:only-of-type {\n",
              "        vertical-align: middle;\n",
              "    }\n",
              "\n",
              "    .dataframe tbody tr th {\n",
              "        vertical-align: top;\n",
              "    }\n",
              "\n",
              "    .dataframe thead th {\n",
              "        text-align: right;\n",
              "    }\n",
              "</style>\n",
              "<table border=\"1\" class=\"dataframe\">\n",
              "  <thead>\n",
              "    <tr style=\"text-align: right;\">\n",
              "      <th></th>\n",
              "      <th>Author_id</th>\n",
              "      <th>age</th>\n",
              "      <th>city</th>\n",
              "    </tr>\n",
              "  </thead>\n",
              "  <tbody>\n",
              "    <tr>\n",
              "      <th>0</th>\n",
              "      <td>unknown</td>\n",
              "      <td>Unknown</td>\n",
              "      <td>Unknown</td>\n",
              "    </tr>\n",
              "    <tr>\n",
              "      <th>1</th>\n",
              "      <td>Дей</td>\n",
              "      <td>Unknown</td>\n",
              "      <td>Saint Petersburg</td>\n",
              "    </tr>\n",
              "    <tr>\n",
              "      <th>2</th>\n",
              "      <td>Сыр</td>\n",
              "      <td>Unknown</td>\n",
              "      <td>Minsk</td>\n",
              "    </tr>\n",
              "    <tr>\n",
              "      <th>3</th>\n",
              "      <td>Nomad</td>\n",
              "      <td>42</td>\n",
              "      <td>Vologda</td>\n",
              "    </tr>\n",
              "    <tr>\n",
              "      <th>4</th>\n",
              "      <td>pofiger</td>\n",
              "      <td>51</td>\n",
              "      <td>Ramat Gan</td>\n",
              "    </tr>\n",
              "  </tbody>\n",
              "</table>\n",
              "</div>"
            ],
            "text/plain": [
              "  Author_id      age              city\n",
              "0   unknown  Unknown           Unknown\n",
              "1       Дей  Unknown  Saint Petersburg\n",
              "2       Сыр  Unknown             Minsk\n",
              "3     Nomad       42           Vologda\n",
              "4   pofiger       51         Ramat Gan"
            ]
          },
          "metadata": {
            "tags": []
          },
          "execution_count": 77
        }
      ]
    },
    {
      "cell_type": "code",
      "metadata": {
        "id": "p71lA6GlFQj2",
        "colab_type": "code",
        "colab": {}
      },
      "source": [
        "auth = {}\n",
        "for row_obj in Authors.iterrows():\n",
        "  row = row_obj[1]\n",
        "  auth[row['Author_id']] = (row['age'], row['city'])"
      ],
      "execution_count": 0,
      "outputs": []
    },
    {
      "cell_type": "code",
      "metadata": {
        "id": "rkWdV_ayHGSi",
        "colab_type": "code",
        "colab": {}
      },
      "source": [
        "ages = []\n",
        "cities = []\n",
        "for author in Posts['Author_id']:\n",
        "  try:\n",
        "    age, city = auth[author]\n",
        "  except KeyError:\n",
        "    age = 'Unknown'\n",
        "    city = 'Unknown'\n",
        "  ages.append(age)\n",
        "  cities.append(city)\n",
        "Posts['age'] = ages\n",
        "Posts['city'] = cities"
      ],
      "execution_count": 0,
      "outputs": []
    },
    {
      "cell_type": "markdown",
      "metadata": {
        "id": "X9YivVVVMImG",
        "colab_type": "text"
      },
      "source": [
        "### Обработка датасета"
      ]
    },
    {
      "cell_type": "markdown",
      "metadata": {
        "id": "NHy-v7LLY0h6",
        "colab_type": "text"
      },
      "source": [
        "Какие есть проблемы:\n",
        "\n",
        "- неизвестные возраста\n",
        "- неизвестные города\n",
        "- дата в unixtime"
      ]
    },
    {
      "cell_type": "code",
      "metadata": {
        "id": "tw7EyNhiJWn0",
        "colab_type": "code",
        "outputId": "0556dbc6-290f-48c5-d840-7616ef7dc31e",
        "colab": {
          "base_uri": "https://localhost:8080/",
          "height": 204
        }
      },
      "source": [
        "Posts.head()"
      ],
      "execution_count": 0,
      "outputs": [
        {
          "output_type": "execute_result",
          "data": {
            "text/html": [
              "<div>\n",
              "<style scoped>\n",
              "    .dataframe tbody tr th:only-of-type {\n",
              "        vertical-align: middle;\n",
              "    }\n",
              "\n",
              "    .dataframe tbody tr th {\n",
              "        vertical-align: top;\n",
              "    }\n",
              "\n",
              "    .dataframe thead th {\n",
              "        text-align: right;\n",
              "    }\n",
              "</style>\n",
              "<table border=\"1\" class=\"dataframe\">\n",
              "  <thead>\n",
              "    <tr style=\"text-align: right;\">\n",
              "      <th></th>\n",
              "      <th>Post_id</th>\n",
              "      <th>Author_id</th>\n",
              "      <th>date</th>\n",
              "      <th>text</th>\n",
              "      <th>age</th>\n",
              "      <th>city</th>\n",
              "    </tr>\n",
              "  </thead>\n",
              "  <tbody>\n",
              "    <tr>\n",
              "      <th>0</th>\n",
              "      <td>234497</td>\n",
              "      <td>Unknown</td>\n",
              "      <td>05</td>\n",
              "      <td>Лучшие [club95488043|депрессяшки] за апрель201...</td>\n",
              "      <td>40</td>\n",
              "      <td>Unknown</td>\n",
              "    </tr>\n",
              "    <tr>\n",
              "      <th>1</th>\n",
              "      <td>244615</td>\n",
              "      <td>Дей</td>\n",
              "      <td>06</td>\n",
              "      <td>заходишь в чат к хорошим людям\\nсидят по добро...</td>\n",
              "      <td>40</td>\n",
              "      <td>Saint Petersburg</td>\n",
              "    </tr>\n",
              "    <tr>\n",
              "      <th>2</th>\n",
              "      <td>244396</td>\n",
              "      <td>Сыр</td>\n",
              "      <td>06</td>\n",
              "      <td>у нас в сизо неплохо кормят\\nа иногда по выход...</td>\n",
              "      <td>40</td>\n",
              "      <td>Minsk</td>\n",
              "    </tr>\n",
              "    <tr>\n",
              "      <th>3</th>\n",
              "      <td>244348</td>\n",
              "      <td>Nomad</td>\n",
              "      <td>06</td>\n",
              "      <td>оксана под олегом в сексе\\nтак извивалась что ...</td>\n",
              "      <td>42</td>\n",
              "      <td>Vologda</td>\n",
              "    </tr>\n",
              "    <tr>\n",
              "      <th>4</th>\n",
              "      <td>244316</td>\n",
              "      <td>pofiger</td>\n",
              "      <td>06</td>\n",
              "      <td>олегу денег не хватает\\nни на непал ни на тибе...</td>\n",
              "      <td>51</td>\n",
              "      <td>Ramat Gan</td>\n",
              "    </tr>\n",
              "  </tbody>\n",
              "</table>\n",
              "</div>"
            ],
            "text/plain": [
              "   Post_id Author_id  ... age              city\n",
              "0   234497   Unknown  ...  40           Unknown\n",
              "1   244615       Дей  ...  40  Saint Petersburg\n",
              "2   244396       Сыр  ...  40             Minsk\n",
              "3   244348     Nomad  ...  42           Vologda\n",
              "4   244316   pofiger  ...  51         Ramat Gan\n",
              "\n",
              "[5 rows x 6 columns]"
            ]
          },
          "metadata": {
            "tags": []
          },
          "execution_count": 99
        }
      ]
    },
    {
      "cell_type": "code",
      "metadata": {
        "id": "sR8rUBczkkMQ",
        "colab_type": "code",
        "colab": {}
      },
      "source": [
        "Posts.to_csv('Posts.csv')"
      ],
      "execution_count": 0,
      "outputs": []
    },
    {
      "cell_type": "code",
      "metadata": {
        "id": "9k_9e1VxODpy",
        "colab_type": "code",
        "colab": {}
      },
      "source": [
        "# Извлекаем из даты месяц\n",
        "from datetime import datetime\n",
        "ts = int(\"1284101485\")\n",
        "\n",
        "# if you encounter a \"year is out of range\" error the timestamp\n",
        "# may be in milliseconds, try `ts /= 1000` in that case\n",
        "dates = Posts['date']\n",
        "\n",
        "new_date = []\n",
        "for i in dates:\n",
        "  a = datetime.utcfromtimestamp(int(i)).strftime('%m')\n",
        "  new_date.append(a)\n",
        "Posts['date'] = new_date"
      ],
      "execution_count": 0,
      "outputs": []
    },
    {
      "cell_type": "code",
      "metadata": {
        "id": "wExT9ozKjvMY",
        "colab_type": "code",
        "colab": {}
      },
      "source": [
        "n = Posts['Author_id'][0]\n",
        "Posts['Author_id'] = Posts['Author_id'].replace(n, 'Unknown')"
      ],
      "execution_count": 0,
      "outputs": []
    },
    {
      "cell_type": "code",
      "metadata": {
        "id": "FjKT9PhMdkFk",
        "colab_type": "code",
        "colab": {}
      },
      "source": [
        "# Заменяем неизвестный возраст на средний\n",
        "import numpy as np\n",
        "ages = [int(a) for a in Authors['age'] if a != 'Unknown']\n",
        "mean_age = np.mean(ages)"
      ],
      "execution_count": 0,
      "outputs": []
    },
    {
      "cell_type": "code",
      "metadata": {
        "id": "5wgKOC2GeK8l",
        "colab_type": "code",
        "colab": {}
      },
      "source": [
        "mean_age = int(mean_age)"
      ],
      "execution_count": 0,
      "outputs": []
    },
    {
      "cell_type": "code",
      "metadata": {
        "id": "OJLPcmhBeT6E",
        "colab_type": "code",
        "colab": {}
      },
      "source": [
        "Posts['age'] = Posts['age'].replace('Unknown', mean_age)"
      ],
      "execution_count": 0,
      "outputs": []
    },
    {
      "cell_type": "code",
      "metadata": {
        "id": "ScuHxmx9hoX1",
        "colab_type": "code",
        "outputId": "44d327ff-b08b-4a72-c61b-d72cc3bc6bcb",
        "colab": {
          "base_uri": "https://localhost:8080/",
          "height": 1071
        }
      },
      "source": [
        "Authors['city']"
      ],
      "execution_count": 0,
      "outputs": [
        {
          "output_type": "execute_result",
          "data": {
            "text/plain": [
              "0                 Unknown\n",
              "1        Saint Petersburg\n",
              "2                   Minsk\n",
              "3                 Vologda\n",
              "4               Ramat Gan\n",
              "5                 Unknown\n",
              "6                Zarechny\n",
              "7                 Unknown\n",
              "8           New York City\n",
              "9                  Moscow\n",
              "10                 Moscow\n",
              "11               Zlatoust\n",
              "12                   Omsk\n",
              "13       Saint Petersburg\n",
              "14                Unknown\n",
              "15                Unknown\n",
              "16       Saint Petersburg\n",
              "17              Krasnodar\n",
              "18       Saint Petersburg\n",
              "19                 Moscow\n",
              "20       Saint Petersburg\n",
              "21               Murmansk\n",
              "22       Saint Petersburg\n",
              "23                Unknown\n",
              "24                 Moscow\n",
              "25               Murmansk\n",
              "26                Unknown\n",
              "27                   Tula\n",
              "28              Amsterdam\n",
              "29                Saratov\n",
              "              ...        \n",
              "1511                Kazan\n",
              "1512              Kharkiv\n",
              "1513     Saint Petersburg\n",
              "1514              Unknown\n",
              "1515          Novosibirsk\n",
              "1516               Moscow\n",
              "1517              Unknown\n",
              "1518              Unknown\n",
              "1519              Unknown\n",
              "1520               Moscow\n",
              "1521              Lipetsk\n",
              "1522                 Kyiv\n",
              "1523              Unknown\n",
              "1524     Saint Petersburg\n",
              "1525                 Omsk\n",
              "1526              Unknown\n",
              "1527     Saint Petersburg\n",
              "1528     Saint Petersburg\n",
              "1529        Yekaterinburg\n",
              "1530     Saint Petersburg\n",
              "1531    Nur-Sultan/Astana\n",
              "1532              Unknown\n",
              "1533         Novorossiysk\n",
              "1534     Saint Petersburg\n",
              "1535           Pittsburgh\n",
              "1536           Sevastopol\n",
              "1537              Unknown\n",
              "1538     Saint Petersburg\n",
              "1539              Unknown\n",
              "1540              Unknown\n",
              "Name: city, Length: 1541, dtype: object"
            ]
          },
          "metadata": {
            "tags": []
          },
          "execution_count": 85
        }
      ]
    },
    {
      "cell_type": "markdown",
      "metadata": {
        "id": "GrV_ghIhBCVt",
        "colab_type": "text"
      },
      "source": [
        "### Tf-idf\n"
      ]
    },
    {
      "cell_type": "markdown",
      "metadata": {
        "id": "g14SDE5LAZQc",
        "colab_type": "text"
      },
      "source": [
        ""
      ]
    },
    {
      "cell_type": "code",
      "metadata": {
        "id": "XPZZBpZzT362",
        "colab_type": "code",
        "colab": {}
      },
      "source": [
        "import re\n",
        "posts = []\n",
        "for i in Posts['text']:\n",
        "    i = re.sub('\\\\[.*?\\\\]', '', i)\n",
        "    i = re.sub('\\n', ' ', i)\n",
        "    i = re.sub('\\s+', ' ', i).lower()\n",
        "    posts.append(re.sub(r'©.*', '', i))"
      ],
      "execution_count": 0,
      "outputs": []
    },
    {
      "cell_type": "code",
      "metadata": {
        "id": "HuFWw0HiAaly",
        "colab_type": "code",
        "outputId": "46c90ecc-1c1a-4565-b760-403566b0f52f",
        "colab": {
          "base_uri": "https://localhost:8080/",
          "height": 54
        }
      },
      "source": [
        "Text1 = ''\n",
        "for i in posts:\n",
        "    Text1 = Text1 + ' ' + i\n",
        "Text1[:300]"
      ],
      "execution_count": 114,
      "outputs": [
        {
          "output_type": "execute_result",
          "data": {
            "text/plain": [
              "' лучшие за апрель2019 радуется ольга что пришёл апрель достаёт из шкафа платье икс икс эль  заходишь в чат к хорошим людям сидят по доброму молчат зайдёшь к плохим у них веселье порнуха водка тролли срач  у нас в сизо неплохо кормят а иногда по выходным из ресторанчика напротив приносит запах шаурмы'"
            ]
          },
          "metadata": {
            "tags": []
          },
          "execution_count": 114
        }
      ]
    },
    {
      "cell_type": "code",
      "metadata": {
        "id": "9tI3BABgHvS6",
        "colab_type": "code",
        "colab": {}
      },
      "source": [
        "from collections import defaultdict\n",
        "def get_fdict(string):\n",
        "    corp = defaultdict(int)\n",
        "    word_arr = string.split(' ')\n",
        "    corp_l = len(word_arr)\n",
        "    for i in word_arr:\n",
        "        if i != '':\n",
        "            corp[i] += 1\n",
        "    for k in corp:\n",
        "        corp[k] = corp[k]/corp_l\n",
        "    return corp"
      ],
      "execution_count": 0,
      "outputs": []
    },
    {
      "cell_type": "code",
      "metadata": {
        "id": "-bPZlcu8HwLM",
        "colab_type": "code",
        "colab": {}
      },
      "source": [
        "corp = get_fdict(Text1)"
      ],
      "execution_count": 0,
      "outputs": []
    },
    {
      "cell_type": "code",
      "metadata": {
        "id": "XHoqSCbzAjBC",
        "colab_type": "code",
        "colab": {}
      },
      "source": [
        "def get_tfidf(posts, corp):\n",
        "    arr = []\n",
        "    for post in posts:\n",
        "        tf_dict = get_fdict(post)\n",
        "        tfidf_dict = {}\n",
        "        for k in tf_dict:\n",
        "            if k != '':\n",
        "                tfidf_dict[k] = tf_dict[k]*(1/corp[k])\n",
        "        d = sorted(tfidf_dict.items(), key=lambda i: i[1])[-3:]\n",
        "        arr.append(d)\n",
        "    return arr"
      ],
      "execution_count": 0,
      "outputs": []
    },
    {
      "cell_type": "code",
      "metadata": {
        "id": "3F2IZBVSG2Ms",
        "colab_type": "code",
        "outputId": "0f99c39a-84de-485c-8cc8-0cfe649fd5e0",
        "colab": {
          "base_uri": "https://localhost:8080/",
          "height": 163
        }
      },
      "source": [
        ""
      ],
      "execution_count": 0,
      "outputs": [
        {
          "output_type": "error",
          "ename": "NameError",
          "evalue": "ignored",
          "traceback": [
            "\u001b[0;31m---------------------------------------------------------------------------\u001b[0m",
            "\u001b[0;31mNameError\u001b[0m                                 Traceback (most recent call last)",
            "\u001b[0;32m<ipython-input-108-3f46aca5d0a2>\u001b[0m in \u001b[0;36m<module>\u001b[0;34m()\u001b[0m\n\u001b[0;32m----> 1\u001b[0;31m \u001b[0mcorp\u001b[0m \u001b[0;34m=\u001b[0m \u001b[0mget_fdict\u001b[0m\u001b[0;34m(\u001b[0m\u001b[0mText1\u001b[0m\u001b[0;34m)\u001b[0m\u001b[0;34m\u001b[0m\u001b[0;34m\u001b[0m\u001b[0m\n\u001b[0m",
            "\u001b[0;31mNameError\u001b[0m: name 'get_fdict' is not defined"
          ]
        }
      ]
    },
    {
      "cell_type": "code",
      "metadata": {
        "id": "q9BwuYwiAjDh",
        "colab_type": "code",
        "colab": {}
      },
      "source": [
        "arr = get_tfidf(posts, corp)\n",
        "arr_kw = []\n",
        "for kw in arr:\n",
        "    words = []\n",
        "    for w in kw:\n",
        "        words.append(w[0])\n",
        "    arr_kw.append(' '.join(words))"
      ],
      "execution_count": 0,
      "outputs": []
    },
    {
      "cell_type": "code",
      "metadata": {
        "id": "Z6v2B6R_AjGL",
        "colab_type": "code",
        "colab": {
          "base_uri": "https://localhost:8080/",
          "height": 54
        },
        "outputId": "73b85d7d-3f82-43ce-e476-63b3db02338c"
      },
      "source": [
        "print(arr_kw[:20])"
      ],
      "execution_count": 120,
      "outputs": [
        {
          "output_type": "stream",
          "text": [
            "['эль икс апрель2019', 'тролли заходишь порнуха', 'шаурмы сизо ресторанчика', 'червей извивалась накопал', 'непал тибет бобруйск', 'справа склонились престолов', 'поступать взломали продолжают', 'мерзнешь укрыли холодней', 'подсвечник слабеющих слабеющие', 'тусклый солёной камбалы', 'проснёмся сумрак семдесят', 'расставанье драмынбас печальную', 'заштопал душевные крестиком', 'дырочкой коронный сланцы', 'фильмов комиков президентов', 'заметила тонкий намёк', 'какое знать хуже', 'плюс пометкой цифру', 'рельсах маслу берлиоз', 'топтали туве бикинь']\n"
          ],
          "name": "stdout"
        }
      ]
    },
    {
      "cell_type": "code",
      "metadata": {
        "id": "vR8_I25dAsZF",
        "colab_type": "code",
        "colab": {}
      },
      "source": [
        "Posts['keywords']= arr_kw"
      ],
      "execution_count": 0,
      "outputs": []
    },
    {
      "cell_type": "code",
      "metadata": {
        "id": "AjEN3xIxAsbs",
        "colab_type": "code",
        "colab": {}
      },
      "source": [
        "Posts['text'] = posts"
      ],
      "execution_count": 0,
      "outputs": []
    },
    {
      "cell_type": "code",
      "metadata": {
        "id": "QAgi72XNIrsW",
        "colab_type": "code",
        "colab": {
          "base_uri": "https://localhost:8080/",
          "height": 289
        },
        "outputId": "9a683fe4-41f7-4444-984a-bf2262f9fc80"
      },
      "source": [
        "Posts.head()"
      ],
      "execution_count": 124,
      "outputs": [
        {
          "output_type": "execute_result",
          "data": {
            "text/html": [
              "<div>\n",
              "<style scoped>\n",
              "    .dataframe tbody tr th:only-of-type {\n",
              "        vertical-align: middle;\n",
              "    }\n",
              "\n",
              "    .dataframe tbody tr th {\n",
              "        vertical-align: top;\n",
              "    }\n",
              "\n",
              "    .dataframe thead th {\n",
              "        text-align: right;\n",
              "    }\n",
              "</style>\n",
              "<table border=\"1\" class=\"dataframe\">\n",
              "  <thead>\n",
              "    <tr style=\"text-align: right;\">\n",
              "      <th></th>\n",
              "      <th>Post_id</th>\n",
              "      <th>Author_id</th>\n",
              "      <th>date</th>\n",
              "      <th>text</th>\n",
              "      <th>age</th>\n",
              "      <th>city</th>\n",
              "      <th>keywords</th>\n",
              "    </tr>\n",
              "  </thead>\n",
              "  <tbody>\n",
              "    <tr>\n",
              "      <th>0</th>\n",
              "      <td>234497</td>\n",
              "      <td>Unknown</td>\n",
              "      <td>05</td>\n",
              "      <td>лучшие за апрель2019 радуется ольга что пришёл...</td>\n",
              "      <td>40</td>\n",
              "      <td>Unknown</td>\n",
              "      <td>эль икс апрель2019</td>\n",
              "    </tr>\n",
              "    <tr>\n",
              "      <th>1</th>\n",
              "      <td>244615</td>\n",
              "      <td>Дей</td>\n",
              "      <td>06</td>\n",
              "      <td>заходишь в чат к хорошим людям сидят по добром...</td>\n",
              "      <td>40</td>\n",
              "      <td>Saint Petersburg</td>\n",
              "      <td>тролли заходишь порнуха</td>\n",
              "    </tr>\n",
              "    <tr>\n",
              "      <th>2</th>\n",
              "      <td>244396</td>\n",
              "      <td>Сыр</td>\n",
              "      <td>06</td>\n",
              "      <td>у нас в сизо неплохо кормят а иногда по выходн...</td>\n",
              "      <td>40</td>\n",
              "      <td>Minsk</td>\n",
              "      <td>шаурмы сизо ресторанчика</td>\n",
              "    </tr>\n",
              "    <tr>\n",
              "      <th>3</th>\n",
              "      <td>244348</td>\n",
              "      <td>Nomad</td>\n",
              "      <td>06</td>\n",
              "      <td>оксана под олегом в сексе так извивалась что о...</td>\n",
              "      <td>42</td>\n",
              "      <td>Vologda</td>\n",
              "      <td>червей извивалась накопал</td>\n",
              "    </tr>\n",
              "    <tr>\n",
              "      <th>4</th>\n",
              "      <td>244316</td>\n",
              "      <td>pofiger</td>\n",
              "      <td>06</td>\n",
              "      <td>олегу денег не хватает ни на непал ни на тибет...</td>\n",
              "      <td>51</td>\n",
              "      <td>Ramat Gan</td>\n",
              "      <td>непал тибет бобруйск</td>\n",
              "    </tr>\n",
              "  </tbody>\n",
              "</table>\n",
              "</div>"
            ],
            "text/plain": [
              "   Post_id Author_id date  ... age              city                   keywords\n",
              "0   234497   Unknown   05  ...  40           Unknown         эль икс апрель2019\n",
              "1   244615       Дей   06  ...  40  Saint Petersburg    тролли заходишь порнуха\n",
              "2   244396       Сыр   06  ...  40             Minsk   шаурмы сизо ресторанчика\n",
              "3   244348     Nomad   06  ...  42           Vologda  червей извивалась накопал\n",
              "4   244316   pofiger   06  ...  51         Ramat Gan       непал тибет бобруйск\n",
              "\n",
              "[5 rows x 7 columns]"
            ]
          },
          "metadata": {
            "tags": []
          },
          "execution_count": 124
        }
      ]
    },
    {
      "cell_type": "code",
      "metadata": {
        "id": "05PMH6UEAsdk",
        "colab_type": "code",
        "colab": {}
      },
      "source": [
        "Posts.to_csv('Posts_kw.csv', encoding='utf-8')"
      ],
      "execution_count": 0,
      "outputs": []
    },
    {
      "cell_type": "markdown",
      "metadata": {
        "id": "7b6Ler25D2O8",
        "colab_type": "text"
      },
      "source": [
        "###Word2Doc"
      ]
    },
    {
      "cell_type": "code",
      "metadata": {
        "id": "4i5rPeJKDmc6",
        "colab_type": "code",
        "colab": {}
      },
      "source": [
        "#почистим наши посты\n",
        "import re\n",
        "posts = []\n",
        "for i in Posts['text']:\n",
        "    i = re.sub('\\n', ' ', i)\n",
        "    i = re.sub('    ', ' ', i)\n",
        "    i = re.sub('  ', ' ', i)\n",
        "    posts.append(re.sub(r'©.*', '', i))\n",
        "    \n",
        "#простемируем их\n",
        "import pymorphy2\n",
        "morph = pymorphy2.MorphAnalyzer()\n",
        "normal_sent = []\n",
        "for i in posts:\n",
        "    normal_words = []\n",
        "    for word in i.split():\n",
        "        p = morph.parse(word)[0]\n",
        "        normal_words.append(p.normal_form)\n",
        "    normal_sent.append(normal_words)\n",
        "    \n",
        "sents = []\n",
        "for i in normal_sent:\n",
        "    sent = ' '.join(i)\n",
        "    sents.append(sent)"
      ],
      "execution_count": 0,
      "outputs": []
    },
    {
      "cell_type": "code",
      "metadata": {
        "id": "ngFOZvAdDwk-",
        "colab_type": "code",
        "colab": {}
      },
      "source": [
        "#теперь натренируем на этом всем модель doc2vec\n",
        "\n",
        "tagged_data = [TaggedDocument(words=word_tokenize(_d.lower()), tags=[str(i)]) for i, _d in enumerate(sents)]\n",
        "\n",
        "max_epochs = 100\n",
        "vec_size = 20\n",
        "alpha = 0.025\n",
        "\n",
        "model = Doc2Vec(size=vec_size,\n",
        "                alpha=alpha, \n",
        "                min_alpha=0.00025,\n",
        "                min_count=1,\n",
        "                dm =1)\n",
        "  \n",
        "model.build_vocab(tagged_data)\n",
        "\n",
        "for epoch in range(max_epochs):\n",
        "    print('iteration {0}'.format(epoch))\n",
        "    model.train(tagged_data,\n",
        "                total_examples=model.corpus_count,\n",
        "                epochs=model.iter)\n",
        "    # decrease the learning rate\n",
        "    model.alpha -= 0.0002\n",
        "    # fix the learning rate, no decay\n",
        "    model.min_alpha = model.alpha\n",
        "\n",
        "model.save(\"d2v.model\")\n",
        "print(\"Model Saved\")"
      ],
      "execution_count": 0,
      "outputs": []
    }
  ]
}